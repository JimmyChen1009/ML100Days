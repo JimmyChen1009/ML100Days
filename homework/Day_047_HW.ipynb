{
 "cells": [
  {
   "cell_type": "markdown",
   "metadata": {},
   "source": [
    "### 作業\n",
    "請使用不同的資料集，並使用 hyper-parameter search 的方式，看能不能找出最佳的超參數組合"
   ]
  },
  {
   "cell_type": "code",
   "execution_count": 10,
   "metadata": {},
   "outputs": [],
   "source": [
    "import numpy as np\n",
    "from sklearn import datasets, metrics\n",
    "from sklearn.ensemble import GradientBoostingRegressor\n",
    "from sklearn.model_selection import train_test_split,GridSearchCV"
   ]
  },
  {
   "cell_type": "code",
   "execution_count": 3,
   "metadata": {},
   "outputs": [
    {
     "data": {
      "text/plain": [
       "(397, 10)"
      ]
     },
     "execution_count": 3,
     "metadata": {},
     "output_type": "execute_result"
    }
   ],
   "source": [
    "diabetes = datasets.load_diabetes()\n",
    "x_train, x_test, y_train, y_test = train_test_split(diabetes.data, diabetes.target, test_size=0.1, random_state=42)\n",
    "x_train.shape"
   ]
  },
  {
   "cell_type": "code",
   "execution_count": 4,
   "metadata": {},
   "outputs": [
    {
     "data": {
      "text/plain": [
       "array([ 52., 200.,  87.,  90., 258., 136., 158.,  69.,  72., 171.])"
      ]
     },
     "execution_count": 4,
     "metadata": {},
     "output_type": "execute_result"
    }
   ],
   "source": [
    "y_train[:10]"
   ]
  },
  {
   "cell_type": "code",
   "execution_count": 6,
   "metadata": {},
   "outputs": [
    {
     "name": "stdout",
     "output_type": "stream",
     "text": [
      "MSE:  2681.0216117395807\n"
     ]
    }
   ],
   "source": [
    "model = GradientBoostingRegressor()\n",
    "model.fit(x_train, y_train)\n",
    "y_pred = model.predict(x_test)\n",
    "mse = metrics.mean_squared_error(y_test, y_pred)\n",
    "print(\"MSE: \", mse)"
   ]
  },
  {
   "cell_type": "markdown",
   "metadata": {},
   "source": [
    "### Grid Search"
   ]
  },
  {
   "cell_type": "code",
   "execution_count": 8,
   "metadata": {},
   "outputs": [
    {
     "name": "stdout",
     "output_type": "stream",
     "text": [
      "Fitting 5 folds for each of 125 candidates, totalling 625 fits\n"
     ]
    },
    {
     "name": "stderr",
     "output_type": "stream",
     "text": [
      "C:\\Users\\chen2\\anaconda3\\envs\\MachineLearning\\lib\\site-packages\\sklearn\\model_selection\\_search.py:976: UserWarning: One or more of the test scores are non-finite: [-5.70339352e+003 -5.44779003e+003 -5.23044431e+003 -5.04104846e+003\n",
      " -4.87624418e+003 -5.53918396e+003 -5.16560385e+003 -4.86149234e+003\n",
      " -4.61729297e+003 -4.40678921e+003 -5.48536234e+003 -5.10142399e+003\n",
      " -4.80789621e+003 -4.57654078e+003 -4.40006656e+003 -5.51468906e+003\n",
      " -5.14608364e+003 -4.86103355e+003 -4.64000395e+003 -4.46293959e+003\n",
      " -5.51208384e+003 -5.17239511e+003 -4.90561090e+003 -4.71813744e+003\n",
      " -4.58102773e+003 -4.33647626e+003 -3.76653234e+003 -3.50710011e+003\n",
      " -3.39053801e+003 -3.33746753e+003 -3.78462630e+003 -3.47657951e+003\n",
      " -3.48347882e+003 -3.49147669e+003 -3.53513557e+003 -3.87314520e+003\n",
      " -3.67760978e+003 -3.70506206e+003 -3.75777502e+003 -3.78455889e+003\n",
      " -4.09156974e+003 -4.09215434e+003 -4.12229543e+003 -4.14414703e+003\n",
      " -4.15107276e+003 -4.29886377e+003 -4.43162988e+003 -4.58766515e+003\n",
      " -4.63968024e+003 -4.65688433e+003 -3.28649850e+003 -3.30882069e+003\n",
      " -3.35114568e+003 -3.39180869e+003 -3.43832908e+003 -3.73076406e+003\n",
      " -3.99942021e+003 -4.13481272e+003 -4.21054930e+003 -4.26225634e+003\n",
      " -4.06010836e+003 -4.11468377e+003 -4.12835846e+003 -4.13153822e+003\n",
      " -4.13182768e+003 -4.17686325e+003 -4.18697744e+003 -4.18753734e+003\n",
      " -4.18755875e+003 -4.18756060e+003 -4.58011166e+003 -4.58033876e+003\n",
      " -4.58034104e+003 -4.58034104e+003 -4.58034104e+003 -4.04668683e+003\n",
      " -4.30171534e+003 -4.42556880e+003 -4.72038798e+003 -4.90057298e+003\n",
      " -6.61046559e+003 -6.60546811e+003 -6.60547104e+003 -6.60547056e+003\n",
      " -6.60547061e+003 -6.22686436e+003 -6.22686422e+003 -6.22686422e+003\n",
      " -6.22686422e+003 -6.22686422e+003 -6.53998000e+003 -6.53998000e+003\n",
      " -6.53998000e+003 -6.53998000e+003 -6.53998000e+003 -6.87862617e+003\n",
      " -6.87862617e+003 -6.87862617e+003 -6.87862617e+003 -6.87862617e+003\n",
      " -1.21993016e+194             -inf             -inf              nan\n",
      "              nan -2.18636940e+194             -inf             -inf\n",
      "              nan              nan -2.61091704e+194             -inf\n",
      "             -inf              nan              nan -3.24945959e+194\n",
      "             -inf             -inf              nan              nan\n",
      " -3.66440420e+194             -inf             -inf              nan\n",
      "              nan]\n",
      "  warnings.warn(\n",
      "C:\\Users\\chen2\\anaconda3\\envs\\MachineLearning\\lib\\site-packages\\sklearn\\model_selection\\_search.py:987: RuntimeWarning: invalid value encountered in subtract\n",
      "  (array - array_means[:, np.newaxis]) ** 2, axis=1, weights=weights\n",
      "C:\\Users\\chen2\\anaconda3\\envs\\MachineLearning\\lib\\site-packages\\sklearn\\model_selection\\_search.py:987: RuntimeWarning: overflow encountered in square\n",
      "  (array - array_means[:, np.newaxis]) ** 2, axis=1, weights=weights\n"
     ]
    },
    {
     "name": "stdout",
     "output_type": "stream",
     "text": [
      "Best MSE: -3286.498505 using {'learning_rate': 0.1, 'max_depth': 1, 'n_estimators': 100}\n"
     ]
    }
   ],
   "source": [
    "n_estimators = [100, 200, 300, 400, 500]\n",
    "learning_rate = [0.001, 0.01, 0.1, 1, 10]\n",
    "max_depth = [1, 3, 5, 7, 9]\n",
    "param_grid = dict(n_estimators=n_estimators, learning_rate=learning_rate, max_depth=max_depth)\n",
    "\n",
    "# n_job=-1 means using all processors\n",
    "grid_search = GridSearchCV(model, param_grid, scoring=\"neg_mean_squared_error\", cv=5, \n",
    "                           n_jobs=-1, verbose=1)\n",
    "grid_result = grid_search.fit(x_train, y_train)\n",
    "\n",
    "print(\"Best MSE: %f using %s\" % (grid_result.best_score_, grid_result.best_params_))"
   ]
  },
  {
   "cell_type": "code",
   "execution_count": 9,
   "metadata": {},
   "outputs": [
    {
     "name": "stdout",
     "output_type": "stream",
     "text": [
      "MSE:  2573.3901834613707\n"
     ]
    }
   ],
   "source": [
    "model_bestparam = GradientBoostingRegressor(max_depth=grid_result.best_params_['max_depth'],\n",
    "                                           n_estimators=grid_result.best_params_['n_estimators'],\n",
    "                                           learning_rate=grid_result.best_params_['learning_rate'])\n",
    "model_bestparam.fit(x_train, y_train)\n",
    "y_pred = model_bestparam.predict(x_test)\n",
    "mse = metrics.mean_squared_error(y_test, y_pred)\n",
    "print(\"MSE: \", mse)"
   ]
  },
  {
   "cell_type": "markdown",
   "metadata": {},
   "source": [
    "### Random Search"
   ]
  },
  {
   "cell_type": "code",
   "execution_count": 14,
   "metadata": {},
   "outputs": [
    {
     "name": "stdout",
     "output_type": "stream",
     "text": [
      "Best MSE: 2581.621072 using {'n_estimators': 166, 'learning_rate': 0.07013824464071816, 'max_depth': 1}\n"
     ]
    }
   ],
   "source": [
    "num_sample = 100\n",
    "learning_rate_sample_list = np.random.uniform(low=0.0, high=1.0, size=num_sample)\n",
    "n_estimators_sample_list = np.random.randint(low=100, high=500, size=num_sample)\n",
    "max_depth_sample_list = np.random.randint(low=1, high=10, size=num_sample)\n",
    "\n",
    "best_mse = 5000\n",
    "\n",
    "for i in range(num_sample):\n",
    "    model = GradientBoostingRegressor(max_depth=max_depth_sample_list[i],\n",
    "                                     n_estimators=n_estimators_sample_list[i],\n",
    "                                     learning_rate=learning_rate_sample_list[i])\n",
    "    model.fit(x_train, y_train)\n",
    "    y_pred = model.predict(x_test)\n",
    "    mse = metrics.mean_squared_error(y_test, y_pred)\n",
    "    if mse < best_mse:\n",
    "        best_mse = mse\n",
    "        best_param = dict(n_estimators=n_estimators_sample_list[i],\n",
    "                          learning_rate=learning_rate_sample_list[i], \n",
    "                          max_depth=max_depth_sample_list[i])   \n",
    "        \n",
    "print(\"Best MSE: %f using %s\" % (best_mse, best_param))"
   ]
  },
  {
   "cell_type": "code",
   "execution_count": null,
   "metadata": {},
   "outputs": [],
   "source": []
  }
 ],
 "metadata": {
  "kernelspec": {
   "display_name": "Python 3 (ipykernel)",
   "language": "python",
   "name": "python3"
  },
  "language_info": {
   "codemirror_mode": {
    "name": "ipython",
    "version": 3
   },
   "file_extension": ".py",
   "mimetype": "text/x-python",
   "name": "python",
   "nbconvert_exporter": "python",
   "pygments_lexer": "ipython3",
   "version": "3.9.17"
  }
 },
 "nbformat": 4,
 "nbformat_minor": 4
}
