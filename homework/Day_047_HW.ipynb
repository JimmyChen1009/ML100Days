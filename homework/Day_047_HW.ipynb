{
 "cells": [
  {
   "cell_type": "markdown",
   "metadata": {},
   "source": [
    "### 作業\n",
    "請使用不同的資料集，並使用 hyper-parameter search 的方式，看能不能找出最佳的超參數組合"
   ]
  },
  {
   "cell_type": "code",
   "execution_count": 17,
   "metadata": {},
   "outputs": [],
   "source": [
    "import numpy as np\n",
    "from sklearn import datasets, metrics\n",
    "from sklearn.ensemble import GradientBoostingRegressor\n",
    "from sklearn.model_selection import train_test_split, GridSearchCV, cross_val_score"
   ]
  },
  {
   "cell_type": "code",
   "execution_count": 18,
   "metadata": {},
   "outputs": [
    {
     "data": {
      "text/plain": [
       "(397, 10)"
      ]
     },
     "execution_count": 18,
     "metadata": {},
     "output_type": "execute_result"
    }
   ],
   "source": [
    "diabetes = datasets.load_diabetes()\n",
    "x_train, x_test, y_train, y_test = train_test_split(diabetes.data, diabetes.target, test_size=0.1, random_state=42)\n",
    "x_train.shape"
   ]
  },
  {
   "cell_type": "code",
   "execution_count": 19,
   "metadata": {},
   "outputs": [
    {
     "data": {
      "text/plain": [
       "array([ 52., 200.,  87.,  90., 258., 136., 158.,  69.,  72., 171.])"
      ]
     },
     "execution_count": 19,
     "metadata": {},
     "output_type": "execute_result"
    }
   ],
   "source": [
    "y_train[:10]"
   ]
  },
  {
   "cell_type": "code",
   "execution_count": 20,
   "metadata": {},
   "outputs": [
    {
     "name": "stdout",
     "output_type": "stream",
     "text": [
      "MSE:  2658.762720320672\n"
     ]
    }
   ],
   "source": [
    "model = GradientBoostingRegressor()\n",
    "model.fit(x_train, y_train)\n",
    "y_pred = model.predict(x_test)\n",
    "mse = metrics.mean_squared_error(y_test, y_pred)\n",
    "print(\"MSE: \", mse)"
   ]
  },
  {
   "cell_type": "markdown",
   "metadata": {},
   "source": [
    "### Grid Search"
   ]
  },
  {
   "cell_type": "code",
   "execution_count": 21,
   "metadata": {},
   "outputs": [
    {
     "name": "stdout",
     "output_type": "stream",
     "text": [
      "Fitting 5 folds for each of 125 candidates, totalling 625 fits\n",
      "Best MSE: -3286.498505 using {'learning_rate': 0.1, 'max_depth': 1, 'n_estimators': 100}\n"
     ]
    },
    {
     "name": "stderr",
     "output_type": "stream",
     "text": [
      "C:\\Users\\chen2\\anaconda3\\envs\\MachineLearning\\lib\\site-packages\\sklearn\\model_selection\\_search.py:976: UserWarning: One or more of the test scores are non-finite: [-5.70339352e+003 -5.44779003e+003 -5.23044431e+003 -5.04104846e+003\n",
      " -4.87624418e+003 -5.53943044e+003 -5.16556651e+003 -4.86119096e+003\n",
      " -4.61747376e+003 -4.40643664e+003 -5.48483598e+003 -5.10158166e+003\n",
      " -4.80745283e+003 -4.57598014e+003 -4.39904343e+003 -5.51504820e+003\n",
      " -5.14746669e+003 -4.85911837e+003 -4.64087094e+003 -4.46386405e+003\n",
      " -5.51155007e+003 -5.16771639e+003 -4.90402368e+003 -4.71692361e+003\n",
      " -4.57605476e+003 -4.33647626e+003 -3.76653234e+003 -3.50710011e+003\n",
      " -3.39053801e+003 -3.33746753e+003 -3.78287118e+003 -3.47788059e+003\n",
      " -3.48588535e+003 -3.49280495e+003 -3.53748915e+003 -3.86943580e+003\n",
      " -3.67746199e+003 -3.70808944e+003 -3.75926252e+003 -3.79687545e+003\n",
      " -4.09070089e+003 -4.10214715e+003 -4.10997660e+003 -4.14084662e+003\n",
      " -4.15037229e+003 -4.29890923e+003 -4.44483346e+003 -4.57627375e+003\n",
      " -4.65469992e+003 -4.64602805e+003 -3.28649850e+003 -3.30882069e+003\n",
      " -3.34788036e+003 -3.39633145e+003 -3.43468675e+003 -3.71178321e+003\n",
      " -3.97824427e+003 -4.11449258e+003 -4.18360396e+003 -4.24867776e+003\n",
      " -4.06274646e+003 -4.08962538e+003 -4.10962576e+003 -4.11723317e+003\n",
      " -4.12979697e+003 -4.13928807e+003 -4.18428108e+003 -4.17933180e+003\n",
      " -4.19982574e+003 -4.17925603e+003 -4.54376734e+003 -4.60882155e+003\n",
      " -4.58937314e+003 -4.55976200e+003 -4.61220635e+003 -4.04668683e+003\n",
      " -4.30970030e+003 -4.42556880e+003 -4.72302232e+003 -4.90343411e+003\n",
      " -6.55458476e+003 -6.49457486e+003 -6.44797656e+003 -6.57970390e+003\n",
      " -6.41814711e+003 -6.35730653e+003 -6.16744049e+003 -6.43773775e+003\n",
      " -6.43264928e+003 -6.23145607e+003 -6.54988207e+003 -6.32088524e+003\n",
      " -6.48186654e+003 -6.42469366e+003 -6.20345795e+003 -6.49004670e+003\n",
      " -6.70750445e+003 -6.91398895e+003 -6.62793605e+003 -6.73387797e+003\n",
      " -1.21993016e+194             -inf             -inf              nan\n",
      "              nan -2.18636940e+194             -inf             -inf\n",
      "              nan              nan -2.67120078e+194             -inf\n",
      "             -inf              nan              nan -3.10446579e+194\n",
      "             -inf             -inf              nan              nan\n",
      " -3.78013059e+194             -inf             -inf              nan\n",
      "              nan]\n",
      "  warnings.warn(\n",
      "C:\\Users\\chen2\\anaconda3\\envs\\MachineLearning\\lib\\site-packages\\sklearn\\model_selection\\_search.py:987: RuntimeWarning: invalid value encountered in subtract\n",
      "  (array - array_means[:, np.newaxis]) ** 2, axis=1, weights=weights\n",
      "C:\\Users\\chen2\\anaconda3\\envs\\MachineLearning\\lib\\site-packages\\sklearn\\model_selection\\_search.py:987: RuntimeWarning: overflow encountered in square\n",
      "  (array - array_means[:, np.newaxis]) ** 2, axis=1, weights=weights\n"
     ]
    }
   ],
   "source": [
    "n_estimators = [100, 200, 300, 400, 500]\n",
    "learning_rate = [0.001, 0.01, 0.1, 1, 10]\n",
    "max_depth = [1, 3, 5, 7, 9]\n",
    "param_grid = dict(n_estimators=n_estimators, learning_rate=learning_rate, max_depth=max_depth)\n",
    "\n",
    "# n_job=-1 means using all processors\n",
    "grid_search = GridSearchCV(model, param_grid, scoring=\"neg_mean_squared_error\", cv=5, \n",
    "                           n_jobs=-1, verbose=1)\n",
    "grid_result = grid_search.fit(x_train, y_train)\n",
    "\n",
    "print(\"Best MSE: %f using %s\" % (grid_result.best_score_, grid_result.best_params_))"
   ]
  },
  {
   "cell_type": "code",
   "execution_count": 22,
   "metadata": {},
   "outputs": [
    {
     "name": "stdout",
     "output_type": "stream",
     "text": [
      "MSE:  2573.3901834613694\n"
     ]
    }
   ],
   "source": [
    "model_bestparam = GradientBoostingRegressor(max_depth=grid_result.best_params_['max_depth'],\n",
    "                                           n_estimators=grid_result.best_params_['n_estimators'],\n",
    "                                           learning_rate=grid_result.best_params_['learning_rate'])\n",
    "model_bestparam.fit(x_train, y_train)\n",
    "y_pred = model_bestparam.predict(x_test)\n",
    "mse = metrics.mean_squared_error(y_test, y_pred)\n",
    "print(\"MSE: \", mse)"
   ]
  },
  {
   "cell_type": "markdown",
   "metadata": {},
   "source": [
    "### Random Search"
   ]
  },
  {
   "cell_type": "code",
   "execution_count": 23,
   "metadata": {},
   "outputs": [
    {
     "name": "stdout",
     "output_type": "stream",
     "text": [
      "Best MSE: 3893.365110 using {'n_estimators': 276, 'learning_rate': 0.6011804060254833, 'max_depth': 1}\n"
     ]
    }
   ],
   "source": [
    "num_sample = 125\n",
    "learning_rate_sample_list = np.random.uniform(low=0.0, high=1.0, size=num_sample)\n",
    "n_estimators_sample_list = np.random.randint(low=100, high=500, size=num_sample)\n",
    "max_depth_sample_list = np.random.randint(low=1, high=10, size=num_sample)\n",
    "\n",
    "best_score = -5000\n",
    "\n",
    "for i in range(num_sample):\n",
    "    model = GradientBoostingRegressor(max_depth=max_depth_sample_list[i],\n",
    "                                     n_estimators=n_estimators_sample_list[i],\n",
    "                                     learning_rate=learning_rate_sample_list[i])\n",
    "    score = np.mean(cross_val_score(model, x_train, y_train, scoring=\"neg_mean_squared_error\",\n",
    "                                    cv=5, n_jobs=-1))\n",
    "    if score > best_score:\n",
    "        best_mse = -score\n",
    "        best_param = dict(n_estimators=n_estimators_sample_list[i],\n",
    "                          learning_rate=learning_rate_sample_list[i], \n",
    "                          max_depth=max_depth_sample_list[i])   \n",
    "        \n",
    "print(\"Best MSE: %f using %s\" % (best_mse, best_param))"
   ]
  },
  {
   "cell_type": "code",
   "execution_count": 24,
   "metadata": {},
   "outputs": [
    {
     "name": "stdout",
     "output_type": "stream",
     "text": [
      "MSE:  3062.867841450141\n"
     ]
    }
   ],
   "source": [
    "model_bestparam = GradientBoostingRegressor(max_depth=best_param['max_depth'],\n",
    "                                           n_estimators=best_param['n_estimators'],\n",
    "                                           learning_rate=best_param['learning_rate'])\n",
    "model_bestparam.fit(x_train, y_train)\n",
    "y_pred = model_bestparam.predict(x_test)\n",
    "mse = metrics.mean_squared_error(y_test, y_pred)\n",
    "print(\"MSE: \", mse)"
   ]
  },
  {
   "cell_type": "code",
   "execution_count": null,
   "metadata": {},
   "outputs": [],
   "source": []
  }
 ],
 "metadata": {
  "kernelspec": {
   "display_name": "Python 3 (ipykernel)",
   "language": "python",
   "name": "python3"
  },
  "language_info": {
   "codemirror_mode": {
    "name": "ipython",
    "version": 3
   },
   "file_extension": ".py",
   "mimetype": "text/x-python",
   "name": "python",
   "nbconvert_exporter": "python",
   "pygments_lexer": "ipython3",
   "version": "3.9.17"
  }
 },
 "nbformat": 4,
 "nbformat_minor": 4
}
