{
 "cells": [
  {
   "cell_type": "markdown",
   "metadata": {},
   "source": [
    "## [作業重點]\n",
    "確保你了解隨機森林模型中每個超參數的意義，並觀察調整超參數對結果的影響"
   ]
  },
  {
   "cell_type": "markdown",
   "metadata": {},
   "source": [
    "## 作業\n",
    "\n",
    "作業1：試著調整 Random Forest 中的參數，並觀察是否會改變結果？   \n",
    "作業2：改用其他資料集 (diabetes, wine)，仔細探索一個參數對模型預測力的變化。 "
   ]
  },
  {
   "cell_type": "code",
   "execution_count": 2,
   "metadata": {},
   "outputs": [],
   "source": [
    "import numpy as np\n",
    "from sklearn import datasets, metrics\n",
    "from sklearn.ensemble import RandomForestClassifier\n",
    "from sklearn.model_selection import train_test_split"
   ]
  },
  {
   "cell_type": "code",
   "execution_count": 4,
   "metadata": {},
   "outputs": [
    {
     "data": {
      "text/plain": [
       "(160, 13)"
      ]
     },
     "execution_count": 4,
     "metadata": {},
     "output_type": "execute_result"
    }
   ],
   "source": [
    "wine=datasets.load_wine()\n",
    "x_train, x_test, y_train, y_test=train_test_split(wine.data, wine.target, test_size=0.1, random_state=42)\n",
    "x_train.shape"
   ]
  },
  {
   "cell_type": "code",
   "execution_count": 6,
   "metadata": {},
   "outputs": [
    {
     "name": "stdout",
     "output_type": "stream",
     "text": [
      "Number of trees: 1, Accuracy: 0.67\n",
      "Number of trees: 2, Accuracy: 0.83\n",
      "Number of trees: 3, Accuracy: 0.89\n",
      "Number of trees: 4, Accuracy: 0.94\n",
      "Number of trees: 5, Accuracy: 0.94\n",
      "Number of trees: 6, Accuracy: 0.94\n",
      "Number of trees: 7, Accuracy: 0.94\n",
      "Number of trees: 8, Accuracy: 0.94\n",
      "Number of trees: 9, Accuracy: 0.94\n",
      "Number of trees: 10, Accuracy: 0.94\n",
      "Number of trees: 11, Accuracy: 0.94\n",
      "Number of trees: 12, Accuracy: 0.94\n",
      "Number of trees: 13, Accuracy: 0.94\n",
      "Number of trees: 14, Accuracy: 0.94\n",
      "Number of trees: 15, Accuracy: 0.94\n",
      "Number of trees: 16, Accuracy: 0.94\n",
      "Number of trees: 17, Accuracy: 0.94\n",
      "Number of trees: 18, Accuracy: 0.94\n",
      "Number of trees: 19, Accuracy: 0.94\n",
      "Number of trees: 20, Accuracy: 0.94\n",
      "Number of trees: 21, Accuracy: 0.94\n",
      "Number of trees: 22, Accuracy: 0.94\n",
      "Number of trees: 23, Accuracy: 0.94\n",
      "Number of trees: 24, Accuracy: 0.94\n",
      "Number of trees: 25, Accuracy: 0.94\n"
     ]
    }
   ],
   "source": [
    "maxTreeList=list(range(1, 26))\n",
    "accList=[]\n",
    "\n",
    "for num_tree in maxTreeList:\n",
    "    model=RandomForestClassifier(n_estimators=num_tree, random_state=42)\n",
    "    model.fit(x_train, y_train)\n",
    "    y_pred=model.predict(x_test)\n",
    "    print(\"Number of trees: {}, Accuracy: {}\".format(num_tree, round(metrics.accuracy_score(y_test, y_pred), 2)))\n",
    "    accList.append(metrics.accuracy_score(y_test, y_pred))"
   ]
  },
  {
   "cell_type": "code",
   "execution_count": 7,
   "metadata": {},
   "outputs": [
    {
     "data": {
      "image/png": "[encoded data removed]",
      "text/plain": [
       "<Figure size 640x480 with 1 Axes>"
      ]
     },
     "metadata": {},
     "output_type": "display_data"
    }
   ],
   "source": [
    "import matplotlib.pyplot as plt\n",
    "plt.plot(maxTreeList, accList)\n",
    "plt.xlabel(\"Number of Trees\")\n",
    "plt.ylabel(\"Accuracy\")\n",
    "plt.show()"
   ]
  },
  {
   "cell_type": "code",
   "execution_count": null,
   "metadata": {},
   "outputs": [],
   "source": []
  }
 ],
 "metadata": {
  "kernelspec": {
   "display_name": "Python 3 (ipykernel)",
   "language": "python",
   "name": "python3"
  },
  "language_info": {
   "codemirror_mode": {
    "name": "ipython",
    "version": 3
   },
   "file_extension": ".py",
   "mimetype": "text/x-python",
   "name": "python",
   "nbconvert_exporter": "python",
   "pygments_lexer": "ipython3",
   "version": "3.9.17"
  }
 },
 "nbformat": 4,
 "nbformat_minor": 4
}
