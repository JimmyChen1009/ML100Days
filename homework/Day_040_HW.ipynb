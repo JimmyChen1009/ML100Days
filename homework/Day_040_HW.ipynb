{
 "cells": [
  {
   "cell_type": "markdown",
   "metadata": {},
   "source": [
    "## [作業重點]\n",
    "使用 Sklearn 中的 Lasso, Ridge 模型，來訓練各種資料集，務必了解送進去模型訓練的**資料型態**為何，也請了解模型中各項參數的意義。\n",
    "\n",
    "機器學習的模型非常多種，但要訓練的資料多半有固定的格式，確保你了解訓練資料的格式為何，這樣在應用新模型時，就能夠最快的上手開始訓練！"
   ]
  },
  {
   "cell_type": "markdown",
   "metadata": {},
   "source": [
    "## 練習時間\n",
    "試著使用 sklearn datasets 的其他資料集 (boston, ...)，來訓練自己的線性迴歸模型，並加上適當的正則化來觀察訓練情形。"
   ]
  },
  {
   "cell_type": "code",
   "execution_count": 10,
   "metadata": {},
   "outputs": [],
   "source": [
    "import pandas as pd\n",
    "import numpy as np\n",
    "import matplotlib.pyplot as plt\n",
    "from sklearn import linear_model\n",
    "from sklearn.model_selection import train_test_split\n",
    "from sklearn.metrics import mean_squared_error, r2_score"
   ]
  },
  {
   "cell_type": "code",
   "execution_count": 11,
   "metadata": {},
   "outputs": [
    {
     "data": {
      "text/plain": [
       "(506, 13)"
      ]
     },
     "execution_count": 11,
     "metadata": {},
     "output_type": "execute_result"
    }
   ],
   "source": [
    "data_url = \"http://lib.stat.cmu.edu/datasets/boston\"\n",
    "raw_df = pd.read_csv(data_url, sep=\"\\s+\", skiprows=22, header=None)\n",
    "data = np.hstack([raw_df.values[::2, :], raw_df.values[1::2, :2]])\n",
    "target = raw_df.values[1::2, 2]\n",
    "data.shape"
   ]
  },
  {
   "cell_type": "code",
   "execution_count": 12,
   "metadata": {},
   "outputs": [
    {
     "data": {
      "text/plain": [
       "array([24. , 21.6, 34.7, 33.4, 36.2, 28.7, 22.9, 27.1, 16.5, 18.9])"
      ]
     },
     "execution_count": 12,
     "metadata": {},
     "output_type": "execute_result"
    }
   ],
   "source": [
    "target[:10]"
   ]
  },
  {
   "cell_type": "markdown",
   "metadata": {},
   "source": [
    "### Linear Regression"
   ]
  },
  {
   "cell_type": "code",
   "execution_count": 13,
   "metadata": {},
   "outputs": [
    {
     "name": "stdout",
     "output_type": "stream",
     "text": [
      "Coefficients:  [-1.19886262e-01  3.99134691e-02  2.12938504e-02  2.77565167e+00\n",
      " -1.85854960e+01  3.75579160e+00  4.57076424e-03 -1.47064595e+00\n",
      "  3.11878023e-01 -1.18109903e-02 -9.47556337e-01  1.03287982e-02\n",
      " -5.50096256e-01]\n",
      "Mean squared error: 15.00\n",
      "R^2: 0.76\n"
     ]
    }
   ],
   "source": [
    "x_train, x_test, y_train, y_test = train_test_split(data, target, test_size=0.1, random_state=42)\n",
    "linreg = linear_model.LinearRegression()\n",
    "linreg.fit(x_train, y_train)\n",
    "y_pred = linreg.predict(x_test)\n",
    "\n",
    "print('Coefficients: ', linreg.coef_)\n",
    "print(\"Mean squared error: %.2f\"\n",
    "      % mean_squared_error(y_test, y_pred))\n",
    "print(\"R^2: %.2f\"\n",
    "      % r2_score(y_test, y_pred))"
   ]
  },
  {
   "cell_type": "markdown",
   "metadata": {},
   "source": [
    "### LASSO"
   ]
  },
  {
   "cell_type": "code",
   "execution_count": 14,
   "metadata": {},
   "outputs": [
    {
     "name": "stdout",
     "output_type": "stream",
     "text": [
      "Coefficients:  [-0.10980546  0.04312477 -0.04391546  0.8916993  -0.          3.64647697\n",
      " -0.00609632 -1.15884637  0.28082483 -0.0140987  -0.7617199   0.01107854\n",
      " -0.59934   ]\n",
      "Mean squared error: 15.47\n",
      "R^2: 0.75\n"
     ]
    }
   ],
   "source": [
    "lasso_1 = linear_model.Lasso(alpha=0.1)\n",
    "lasso_1.fit(x_train, y_train)\n",
    "y_pred = lasso_1.predict(x_test)\n",
    "\n",
    "print('Coefficients: ', lasso_1.coef_)\n",
    "print(\"Mean squared error: %.2f\"\n",
    "      % mean_squared_error(y_test, y_pred))\n",
    "print(\"R^2: %.2f\"\n",
    "      % r2_score(y_test, y_pred))"
   ]
  },
  {
   "cell_type": "code",
   "execution_count": 15,
   "metadata": {},
   "outputs": [
    {
     "name": "stdout",
     "output_type": "stream",
     "text": [
      "Coefficients:  [-0.07680943  0.03881278 -0.          0.         -0.          1.01044741\n",
      "  0.02415483 -0.64204226  0.27317799 -0.01488284 -0.73971637  0.00922596\n",
      " -0.77996817]\n",
      "Mean squared error: 18.65\n",
      "R^2: 0.70\n"
     ]
    }
   ],
   "source": [
    "lasso_2 = linear_model.Lasso(alpha=1)\n",
    "lasso_2.fit(x_train, y_train)\n",
    "y_pred = lasso_2.predict(x_test)\n",
    "\n",
    "print('Coefficients: ', lasso_2.coef_)\n",
    "print(\"Mean squared error: %.2f\"\n",
    "      % mean_squared_error(y_test, y_pred))\n",
    "print(\"R^2: %.2f\"\n",
    "      % r2_score(y_test, y_pred))"
   ]
  },
  {
   "cell_type": "markdown",
   "metadata": {},
   "source": [
    "### Ridge"
   ]
  },
  {
   "cell_type": "code",
   "execution_count": 16,
   "metadata": {},
   "outputs": [
    {
     "name": "stdout",
     "output_type": "stream",
     "text": [
      "Coefficients:  [-1.19247043e-01  4.01386158e-02  1.57972436e-02  2.74823968e+00\n",
      " -1.73335581e+01  3.76406600e+00  3.50478634e-03 -1.45329493e+00\n",
      "  3.09098171e-01 -1.19192114e-02 -9.33822410e-01  1.03761533e-02\n",
      " -5.51792398e-01]\n",
      "Mean squared error: 14.93\n",
      "R^2: 0.76\n"
     ]
    }
   ],
   "source": [
    "ridge_1 = linear_model.Ridge(alpha=0.1)\n",
    "ridge_1.fit(x_train, y_train)\n",
    "y_pred = ridge_1.predict(x_test)\n",
    "\n",
    "print('Coefficients: ', ridge_1.coef_)\n",
    "print(\"Mean squared error: %.2f\"\n",
    "      % mean_squared_error(y_test, y_pred))\n",
    "print(\"R^2: %.2f\"\n",
    "      % r2_score(y_test, y_pred))"
   ]
  },
  {
   "cell_type": "code",
   "execution_count": 17,
   "metadata": {},
   "outputs": [
    {
     "name": "stdout",
     "output_type": "stream",
     "text": [
      "Coefficients:  [-1.15981972e-01  4.13575632e-02 -1.28777372e-02  2.57386585e+00\n",
      " -1.07877514e+01  3.79622099e+00 -1.94226164e-03 -1.36256913e+00\n",
      "  2.95114394e-01 -1.25075808e-02 -8.62983949e-01  1.06216960e-02\n",
      " -5.61553302e-01]\n",
      "Mean squared error: 14.78\n",
      "R^2: 0.76\n"
     ]
    }
   ],
   "source": [
    "ridge_2 = linear_model.Ridge(alpha=1)\n",
    "ridge_2.fit(x_train, y_train)\n",
    "y_pred = ridge_2.predict(x_test)\n",
    "\n",
    "print('Coefficients: ', ridge_2.coef_)\n",
    "print(\"Mean squared error: %.2f\"\n",
    "      % mean_squared_error(y_test, y_pred))\n",
    "print(\"R^2: %.2f\"\n",
    "      % r2_score(y_test, y_pred))"
   ]
  },
  {
   "cell_type": "markdown",
   "metadata": {},
   "source": [
    "### Comparison"
   ]
  },
  {
   "cell_type": "code",
   "execution_count": 22,
   "metadata": {},
   "outputs": [
    {
     "data": {
      "text/plain": [
       "<matplotlib.legend.Legend at 0x211fc2472e0>"
      ]
     },
     "execution_count": 22,
     "metadata": {},
     "output_type": "execute_result"
    },
    {
     "data": {
      "image/png": "[encoded data removed]",
      "text/plain": [
       "<Figure size 640x480 with 1 Axes>"
      ]
     },
     "metadata": {},
     "output_type": "display_data"
    }
   ],
   "source": [
    "plt.plot(linreg.coef_,label=\"LinReg\")\n",
    "plt.plot(lasso_1.coef_,label=\"Lasso_Alpha_0.1\")\n",
    "plt.plot(lasso_2.coef_,label=\"Lasso_Alpha_1\")\n",
    "plt.plot(ridge_1.coef_,label=\"Ridge_Alpha_0.1\")\n",
    "plt.plot(ridge_2.coef_,label=\"Ridge_Alpha_1\")\n",
    "plt.xlabel(\"Feature\")\n",
    "plt.ylabel(\"Coefficient\")\n",
    "plt.legend()"
   ]
  },
  {
   "cell_type": "code",
   "execution_count": null,
   "metadata": {},
   "outputs": [],
   "source": []
  }
 ],
 "metadata": {
  "kernelspec": {
   "display_name": "Python 3 (ipykernel)",
   "language": "python",
   "name": "python3"
  },
  "language_info": {
   "codemirror_mode": {
    "name": "ipython",
    "version": 3
   },
   "file_extension": ".py",
   "mimetype": "text/x-python",
   "name": "python",
   "nbconvert_exporter": "python",
   "pygments_lexer": "ipython3",
   "version": "3.9.17"
  }
 },
 "nbformat": 4,
 "nbformat_minor": 2
}
